{
 "cells": [
  {
   "cell_type": "code",
   "execution_count": 1,
   "id": "67afbebe",
   "metadata": {
    "_cell_guid": "b1076dfc-b9ad-4769-8c92-a6c4dae69d19",
    "_uuid": "8f2839f25d086af736a60e9eeb907d3b93b6e0e5",
    "execution": {
     "iopub.execute_input": "2022-05-24T10:58:31.868842Z",
     "iopub.status.busy": "2022-05-24T10:58:31.868261Z",
     "iopub.status.idle": "2022-05-24T10:58:38.302645Z",
     "shell.execute_reply": "2022-05-24T10:58:38.301699Z"
    },
    "papermill": {
     "duration": 6.452859,
     "end_time": "2022-05-24T10:58:38.305428",
     "exception": false,
     "start_time": "2022-05-24T10:58:31.852569",
     "status": "completed"
    },
    "tags": []
   },
   "outputs": [],
   "source": [
    "# Importing all necessary libraries\n",
    "from keras.preprocessing.image import ImageDataGenerator\n",
    "from keras.models import Sequential\n",
    "from keras.layers import Conv2D, MaxPooling2D\n",
    "from keras.layers import Activation, Dropout, Flatten, Dense\n",
    "from keras import backend as K\n",
    " \n",
    "img_width, img_height = 224, 224"
   ]
  },
  {
   "cell_type": "code",
   "execution_count": 2,
   "id": "5b0b4ef1",
   "metadata": {
    "execution": {
     "iopub.execute_input": "2022-05-24T10:58:38.331618Z",
     "iopub.status.busy": "2022-05-24T10:58:38.330802Z",
     "iopub.status.idle": "2022-05-24T10:58:38.335520Z",
     "shell.execute_reply": "2022-05-24T10:58:38.334712Z"
    },
    "papermill": {
     "duration": 0.019863,
     "end_time": "2022-05-24T10:58:38.337553",
     "exception": false,
     "start_time": "2022-05-24T10:58:38.317690",
     "status": "completed"
    },
    "tags": []
   },
   "outputs": [],
   "source": [
    "train_data_dir = '../input/imageclasscification/vdata/train'\n",
    "validation_data_dir = '../input/imageclasscification/vdata/test'\n",
    "nb_train_samples =400\n",
    "nb_validation_samples = 100\n",
    "epochs = 10\n",
    "batch_size = 16"
   ]
  },
  {
   "cell_type": "code",
   "execution_count": 3,
   "id": "87be8fbb",
   "metadata": {
    "execution": {
     "iopub.execute_input": "2022-05-24T10:58:38.363593Z",
     "iopub.status.busy": "2022-05-24T10:58:38.363302Z",
     "iopub.status.idle": "2022-05-24T10:58:38.367689Z",
     "shell.execute_reply": "2022-05-24T10:58:38.366718Z"
    },
    "papermill": {
     "duration": 0.01995,
     "end_time": "2022-05-24T10:58:38.369567",
     "exception": false,
     "start_time": "2022-05-24T10:58:38.349617",
     "status": "completed"
    },
    "tags": []
   },
   "outputs": [],
   "source": [
    "if K.image_data_format() == 'channels_first':\n",
    "    input_shape = (3, img_width, img_height)\n",
    "else:\n",
    "    input_shape = (img_width, img_height, 3)"
   ]
  },
  {
   "cell_type": "code",
   "execution_count": 4,
   "id": "faa0f367",
   "metadata": {
    "execution": {
     "iopub.execute_input": "2022-05-24T10:58:38.395348Z",
     "iopub.status.busy": "2022-05-24T10:58:38.395065Z",
     "iopub.status.idle": "2022-05-24T10:58:38.603996Z",
     "shell.execute_reply": "2022-05-24T10:58:38.603036Z"
    },
    "papermill": {
     "duration": 0.226765,
     "end_time": "2022-05-24T10:58:38.608308",
     "exception": false,
     "start_time": "2022-05-24T10:58:38.381543",
     "status": "completed"
    },
    "tags": []
   },
   "outputs": [
    {
     "name": "stderr",
     "output_type": "stream",
     "text": [
      "2022-05-24 10:58:38.434154: I tensorflow/core/common_runtime/process_util.cc:146] Creating new thread pool with default inter op setting: 2. Tune using inter_op_parallelism_threads for best performance.\n"
     ]
    }
   ],
   "source": [
    "model = Sequential()\n",
    "model.add(Conv2D(32, (2, 2), input_shape=input_shape))\n",
    "model.add(Activation('relu'))\n",
    "model.add(MaxPooling2D(pool_size=(2, 2)))\n",
    " \n",
    "model.add(Conv2D(32, (2, 2)))\n",
    "model.add(Activation('relu'))\n",
    "model.add(MaxPooling2D(pool_size=(2, 2)))\n",
    " \n",
    "model.add(Conv2D(64, (2, 2)))\n",
    "model.add(Activation('relu'))\n",
    "model.add(MaxPooling2D(pool_size=(2, 2)))\n",
    " \n",
    "model.add(Flatten())\n",
    "model.add(Dense(64))\n",
    "model.add(Activation('relu'))\n",
    "model.add(Dropout(0.5))\n",
    "model.add(Dense(1))\n",
    "model.add(Activation('sigmoid'))"
   ]
  },
  {
   "cell_type": "code",
   "execution_count": 5,
   "id": "3c4fb86d",
   "metadata": {
    "execution": {
     "iopub.execute_input": "2022-05-24T10:58:38.637484Z",
     "iopub.status.busy": "2022-05-24T10:58:38.636747Z",
     "iopub.status.idle": "2022-05-24T10:58:38.653022Z",
     "shell.execute_reply": "2022-05-24T10:58:38.652008Z"
    },
    "papermill": {
     "duration": 0.033256,
     "end_time": "2022-05-24T10:58:38.655641",
     "exception": false,
     "start_time": "2022-05-24T10:58:38.622385",
     "status": "completed"
    },
    "tags": []
   },
   "outputs": [],
   "source": [
    "model.compile(loss='binary_crossentropy',\n",
    "              optimizer='rmsprop',\n",
    "              metrics=['accuracy'])"
   ]
  },
  {
   "cell_type": "code",
   "execution_count": 6,
   "id": "40614bbc",
   "metadata": {
    "execution": {
     "iopub.execute_input": "2022-05-24T10:58:38.683901Z",
     "iopub.status.busy": "2022-05-24T10:58:38.683127Z",
     "iopub.status.idle": "2022-05-24T11:00:31.748565Z",
     "shell.execute_reply": "2022-05-24T11:00:31.747600Z"
    },
    "papermill": {
     "duration": 113.082463,
     "end_time": "2022-05-24T11:00:31.751178",
     "exception": false,
     "start_time": "2022-05-24T10:58:38.668715",
     "status": "completed"
    },
    "tags": []
   },
   "outputs": [
    {
     "name": "stdout",
     "output_type": "stream",
     "text": [
      "Found 400 images belonging to 2 classes.\n",
      "Found 100 images belonging to 2 classes.\n"
     ]
    },
    {
     "name": "stderr",
     "output_type": "stream",
     "text": [
      "/opt/conda/lib/python3.7/site-packages/keras/engine/training.py:1972: UserWarning: `Model.fit_generator` is deprecated and will be removed in a future version. Please use `Model.fit`, which supports generators.\n",
      "  warnings.warn('`Model.fit_generator` is deprecated and '\n",
      "2022-05-24 10:58:39.677512: I tensorflow/compiler/mlir/mlir_graph_optimization_pass.cc:185] None of the MLIR Optimization Passes are enabled (registered 2)\n"
     ]
    },
    {
     "name": "stdout",
     "output_type": "stream",
     "text": [
      "Epoch 1/10\n",
      "25/25 [==============================] - 12s 421ms/step - loss: 1.1489 - accuracy: 0.5900 - val_loss: 0.5817 - val_accuracy: 0.8750\n",
      "Epoch 2/10\n",
      "25/25 [==============================] - 9s 372ms/step - loss: 0.5870 - accuracy: 0.7325 - val_loss: 0.3383 - val_accuracy: 0.8854\n",
      "Epoch 3/10\n",
      "25/25 [==============================] - 9s 370ms/step - loss: 0.4974 - accuracy: 0.8025 - val_loss: 0.4359 - val_accuracy: 0.7604\n",
      "Epoch 4/10\n",
      "25/25 [==============================] - 10s 393ms/step - loss: 0.4315 - accuracy: 0.8050 - val_loss: 0.6138 - val_accuracy: 0.6146\n",
      "Epoch 5/10\n",
      "25/25 [==============================] - 9s 368ms/step - loss: 0.4418 - accuracy: 0.8275 - val_loss: 0.2728 - val_accuracy: 0.8854\n",
      "Epoch 6/10\n",
      "25/25 [==============================] - 9s 371ms/step - loss: 0.3774 - accuracy: 0.8725 - val_loss: 0.3223 - val_accuracy: 0.8333\n",
      "Epoch 7/10\n",
      "25/25 [==============================] - 10s 380ms/step - loss: 0.3815 - accuracy: 0.8675 - val_loss: 0.3009 - val_accuracy: 0.8646\n",
      "Epoch 8/10\n",
      "25/25 [==============================] - 9s 370ms/step - loss: 0.3328 - accuracy: 0.8575 - val_loss: 0.3000 - val_accuracy: 0.8646\n",
      "Epoch 9/10\n",
      "25/25 [==============================] - 9s 369ms/step - loss: 0.3036 - accuracy: 0.8625 - val_loss: 0.3356 - val_accuracy: 0.8333\n",
      "Epoch 10/10\n",
      "25/25 [==============================] - 10s 377ms/step - loss: 0.3159 - accuracy: 0.8725 - val_loss: 0.2766 - val_accuracy: 0.8854\n"
     ]
    },
    {
     "data": {
      "text/plain": [
       "<keras.callbacks.History at 0x7f1228216910>"
      ]
     },
     "execution_count": 6,
     "metadata": {},
     "output_type": "execute_result"
    }
   ],
   "source": [
    "train_datagen = ImageDataGenerator(\n",
    "    rescale=1. / 255,\n",
    "    shear_range=0.2,\n",
    "    zoom_range=0.2,\n",
    "    horizontal_flip=True)\n",
    " \n",
    "test_datagen = ImageDataGenerator(rescale=1. / 255)\n",
    " \n",
    "train_generator = train_datagen.flow_from_directory(\n",
    "    train_data_dir,\n",
    "    target_size=(img_width, img_height),\n",
    "    batch_size=batch_size,\n",
    "    class_mode='binary')\n",
    " \n",
    "validation_generator = test_datagen.flow_from_directory(\n",
    "    validation_data_dir,\n",
    "    target_size=(img_width, img_height),\n",
    "    batch_size=batch_size,\n",
    "    class_mode='binary')\n",
    " \n",
    "model.fit_generator(\n",
    "    train_generator,\n",
    "    steps_per_epoch=nb_train_samples // batch_size,\n",
    "    epochs=epochs,\n",
    "    validation_data=validation_generator,\n",
    "    validation_steps=nb_validation_samples // batch_size)"
   ]
  },
  {
   "cell_type": "code",
   "execution_count": 7,
   "id": "6107050c",
   "metadata": {
    "execution": {
     "iopub.execute_input": "2022-05-24T11:00:31.980587Z",
     "iopub.status.busy": "2022-05-24T11:00:31.979711Z",
     "iopub.status.idle": "2022-05-24T11:00:32.023079Z",
     "shell.execute_reply": "2022-05-24T11:00:32.022193Z"
    },
    "papermill": {
     "duration": 0.159999,
     "end_time": "2022-05-24T11:00:32.025643",
     "exception": false,
     "start_time": "2022-05-24T11:00:31.865644",
     "status": "completed"
    },
    "tags": []
   },
   "outputs": [],
   "source": [
    "model.save_weights('model_saved.h5')"
   ]
  },
  {
   "cell_type": "code",
   "execution_count": 8,
   "id": "2f9c190b",
   "metadata": {
    "execution": {
     "iopub.execute_input": "2022-05-24T11:00:32.259189Z",
     "iopub.status.busy": "2022-05-24T11:00:32.258422Z",
     "iopub.status.idle": "2022-05-24T11:00:32.472473Z",
     "shell.execute_reply": "2022-05-24T11:00:32.471329Z"
    },
    "papermill": {
     "duration": 0.33606,
     "end_time": "2022-05-24T11:00:32.475533",
     "exception": false,
     "start_time": "2022-05-24T11:00:32.139473",
     "status": "completed"
    },
    "tags": []
   },
   "outputs": [
    {
     "name": "stdout",
     "output_type": "stream",
     "text": [
      "Predicted Class (0 - Cars , 1- Planes):  0.09850678\n"
     ]
    }
   ],
   "source": [
    "from keras.models import load_model\n",
    "from keras.preprocessing.image import load_img\n",
    "from keras.preprocessing.image import img_to_array\n",
    "from keras.applications.vgg16 import preprocess_input\n",
    "from keras.applications.vgg16 import decode_predictions\n",
    "from keras.applications.vgg16 import VGG16\n",
    "import numpy as np\n",
    " \n",
    "from keras.models import load_model\n",
    " \n",
    "#model.load_weights('./model_saved.h5')\n",
    " \n",
    "image = load_img('../input/imageclasscification/vdata/test/cars/13.jpg', target_size=(224, 224))\n",
    "img = np.array(image)\n",
    "img = img / 255.0\n",
    "img = img.reshape(1,224,224,3)\n",
    "label = model.predict(img)\n",
    "print(\"Predicted Class (0 - Cars , 1- Planes): \", label[0][0])"
   ]
  },
  {
   "cell_type": "code",
   "execution_count": 9,
   "id": "7c5c621d",
   "metadata": {
    "execution": {
     "iopub.execute_input": "2022-05-24T11:00:32.701815Z",
     "iopub.status.busy": "2022-05-24T11:00:32.701267Z",
     "iopub.status.idle": "2022-05-24T11:00:33.273702Z",
     "shell.execute_reply": "2022-05-24T11:00:33.272317Z"
    },
    "papermill": {
     "duration": 0.688185,
     "end_time": "2022-05-24T11:00:33.277113",
     "exception": false,
     "start_time": "2022-05-24T11:00:32.588928",
     "status": "completed"
    },
    "tags": []
   },
   "outputs": [
    {
     "name": "stdout",
     "output_type": "stream",
     "text": [
      "7/7 [==============================] - 0s 59ms/step - loss: 0.2829 - accuracy: 0.8800\n"
     ]
    }
   ],
   "source": [
    "result = model.evaluate(validation_generator)"
   ]
  },
  {
   "cell_type": "code",
   "execution_count": null,
   "id": "e692381e",
   "metadata": {
    "papermill": {
     "duration": 0.113156,
     "end_time": "2022-05-24T11:00:33.505276",
     "exception": false,
     "start_time": "2022-05-24T11:00:33.392120",
     "status": "completed"
    },
    "tags": []
   },
   "outputs": [],
   "source": []
  },
  {
   "cell_type": "code",
   "execution_count": null,
   "id": "6098f383",
   "metadata": {
    "papermill": {
     "duration": 0.112976,
     "end_time": "2022-05-24T11:00:33.732384",
     "exception": false,
     "start_time": "2022-05-24T11:00:33.619408",
     "status": "completed"
    },
    "tags": []
   },
   "outputs": [],
   "source": []
  }
 ],
 "metadata": {
  "kernelspec": {
   "display_name": "Python 3",
   "language": "python",
   "name": "python3"
  },
  "language_info": {
   "codemirror_mode": {
    "name": "ipython",
    "version": 3
   },
   "file_extension": ".py",
   "mimetype": "text/x-python",
   "name": "python",
   "nbconvert_exporter": "python",
   "pygments_lexer": "ipython3",
   "version": "3.7.12"
  },
  "papermill": {
   "default_parameters": {},
   "duration": 135.793234,
   "end_time": "2022-05-24T11:00:37.279662",
   "environment_variables": {},
   "exception": null,
   "input_path": "__notebook__.ipynb",
   "output_path": "__notebook__.ipynb",
   "parameters": {},
   "start_time": "2022-05-24T10:58:21.486428",
   "version": "2.3.4"
  }
 },
 "nbformat": 4,
 "nbformat_minor": 5
}
